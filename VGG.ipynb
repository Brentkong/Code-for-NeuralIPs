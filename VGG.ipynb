{
  "cells": [
    {
      "cell_type": "markdown",
      "metadata": {
        "id": "view-in-github",
        "colab_type": "text"
      },
      "source": [
        "<a href=\"https://colab.research.google.com/github/Brentkong/Code-for-NeuralIPs/blob/main/VGG.ipynb\" target=\"_parent\"><img src=\"https://colab.research.google.com/assets/colab-badge.svg\" alt=\"Open In Colab\"/></a>"
      ]
    },
    {
      "cell_type": "markdown",
      "metadata": {
        "id": "qkKd59okcL-9"
      },
      "source": [
        "### **Use: https://www.kaggle.com/datasets/abdelghaniaaba/wildfire-prediction-dataset**\n"
      ]
    },
    {
      "cell_type": "code",
      "execution_count": null,
      "metadata": {
        "colab": {
          "base_uri": "https://localhost:8080/"
        },
        "id": "8blwGjGcIS0l",
        "outputId": "a7ce7d20-4527-4b2b-fec0-1eb5a9287050"
      },
      "outputs": [
        {
          "output_type": "stream",
          "name": "stdout",
          "text": [
            "Mounted at /content/drive\n"
          ]
        }
      ],
      "source": [
        "from google.colab import drive\n",
        "drive.mount('/content/drive')"
      ]
    },
    {
      "cell_type": "markdown",
      "metadata": {
        "id": "_ViRD7QSc5hT"
      },
      "source": [
        "### **Imports**"
      ]
    },
    {
      "cell_type": "code",
      "execution_count": null,
      "metadata": {
        "id": "NpNTRNieo5Xj"
      },
      "outputs": [],
      "source": [
        "import numpy as np\n",
        "import pandas as pd\n",
        "import tensorflow as tf\n",
        "from tensorflow import keras\n",
        "from tensorflow.keras import layers, callbacks, Sequential\n",
        "from tensorflow.keras.layers import Conv2D,Dense,Dropout,Flatten,MaxPooling2D,Input,BatchNormalization\n",
        "from tensorflow.keras.models import Sequential\n",
        "from tensorflow.keras.models import Model\n",
        "import matplotlib.pyplot as plt\n",
        "\n",
        "from sklearn import metrics\n",
        "from sklearn.metrics import precision_score, recall_score, accuracy_score, f1_score, confusion_matrix, ConfusionMatrixDisplay, roc_curve, roc_auc_score"
      ]
    },
    {
      "cell_type": "code",
      "execution_count": null,
      "metadata": {
        "id": "9RNc7PPjUsYw"
      },
      "outputs": [],
      "source": [
        "x_train = np.load('/content/drive/MyDrive/Research Programs and Folders/NeuralIPS Code/Data/Processed Data/42850/x_train.npy')\n",
        "x_val = np.load('/content/drive/MyDrive/Research Programs and Folders/NeuralIPS Code/Data/Processed Data/42850/x_val.npy')\n",
        "x_test = np.load('/content/drive/MyDrive/Research Programs and Folders/NeuralIPS Code/Data/Processed Data/42850/x_test.npy')\n",
        "\n",
        "y_train = np.load('/content/drive/MyDrive/Research Programs and Folders/NeuralIPS Code/Data/Processed Data/42850/y_train.npy')\n",
        "y_val = np.load('/content/drive/MyDrive/Research Programs and Folders/NeuralIPS Code/Data/Processed Data/42850/y_val.npy')\n",
        "y_test = np.load('/content/drive/MyDrive/Research Programs and Folders/NeuralIPS Code/Data/Processed Data/42850/y_test.npy')"
      ]
    },
    {
      "cell_type": "code",
      "source": [
        "Test, Precision, Recall, F1, ROC_AUC = [], [], [], [], []"
      ],
      "metadata": {
        "id": "y1Kqd15VXMNx"
      },
      "execution_count": null,
      "outputs": []
    },
    {
      "cell_type": "code",
      "source": [
        "y_test = np.array([np.argmax(i) for i in y_test])"
      ],
      "metadata": {
        "id": "_ZR14-PRXdZT"
      },
      "execution_count": null,
      "outputs": []
    },
    {
      "cell_type": "markdown",
      "metadata": {
        "id": "5xQWYMOoWXUT"
      },
      "source": [
        "### **VGG (Visual Geometry Group) Networks:**"
      ]
    },
    {
      "cell_type": "code",
      "source": [
        "#https://www.kaggle.com/code/blurredmachine/vggnet-16-architecture-a-complete-guide"
      ],
      "metadata": {
        "id": "0gG1p_zrZuRk"
      },
      "execution_count": null,
      "outputs": []
    },
    {
      "cell_type": "code",
      "execution_count": null,
      "metadata": {
        "id": "anZLrg_y9s3w"
      },
      "outputs": [],
      "source": [
        "def vgg():\n",
        "    model=Sequential()\n",
        "    model.add(Conv2D(64,(3,3), strides = 1, padding='same', input_shape=(32,32,3), activation='relu', kernel_initializer= 'he_normal'))\n",
        "    model.add(Conv2D(64,(3,3), strides = 1, padding='same', activation='relu', kernel_initializer= 'he_normal'))\n",
        "    model.add(MaxPooling2D(pool_size=(3,3), strides = 2, padding='same'))\n",
        "    model.add(Conv2D(128,(3,3), strides = 1, padding='same', activation='relu', kernel_initializer= 'he_normal'))\n",
        "    model.add(Conv2D(128,(3,3), strides = 1, padding='same', activation='relu', kernel_initializer= 'he_normal'))\n",
        "    model.add(MaxPooling2D(pool_size=(3,3), strides = 2, padding='same'))\n",
        "    model.add(Conv2D(256,(3,3), strides = 1, padding='same', activation='relu', kernel_initializer= 'he_normal'))\n",
        "    model.add(Conv2D(256,(3,3), strides = 1, padding='same', activation='relu', kernel_initializer= 'he_normal'))\n",
        "    model.add(MaxPooling2D(pool_size=(3,3), strides = 2, padding='same'))\n",
        "    model.add(Conv2D(512,(3,3), strides = 1, padding='same', activation='relu', kernel_initializer= 'he_normal'))\n",
        "    model.add(Conv2D(512,(3,3), strides = 1, padding='same', activation='relu', kernel_initializer= 'he_normal'))\n",
        "    model.add(Conv2D(512,(3,3), strides = 1, padding='same', activation='relu', kernel_initializer= 'he_normal'))\n",
        "    model.add(MaxPooling2D(pool_size=(3,3), strides = 2, padding='same'))\n",
        "    model.add(Conv2D(512,(3,3), strides = 1, padding='same', activation='relu', kernel_initializer= 'he_normal'))\n",
        "    model.add(Conv2D(512,(3,3), strides = 1, padding='same', activation='relu', kernel_initializer= 'he_normal'))\n",
        "    model.add(Conv2D(512,(3,3), strides = 1, padding='same', activation='relu', kernel_initializer= 'he_normal'))\n",
        "    model.add(MaxPooling2D(pool_size=(3,3), strides = 2, padding='same'))\n",
        "    model.add(Flatten())\n",
        "    model.add(Dense(4096, activation=\"relu\"))\n",
        "    model.add(Dense(4096, activation=\"relu\"))\n",
        "    model.add(Dense(4096, activation=\"relu\"))\n",
        "    model.add(Dense(2, activation='softmax'))\n",
        "    model.compile(loss='categorical_crossentropy', optimizer = 'adam', metrics=['accuracy'])\n",
        "    return model\n",
        "vgg_net = vgg()"
      ]
    },
    {
      "cell_type": "code",
      "execution_count": null,
      "metadata": {
        "colab": {
          "base_uri": "https://localhost:8080/"
        },
        "id": "Y7Df31bSBHJ-",
        "outputId": "5d6f77d8-d2ff-4a75-8315-88576586fabf"
      },
      "outputs": [
        {
          "output_type": "stream",
          "name": "stdout",
          "text": [
            "Epoch 1/100\n",
            "469/469 - 22s - loss: 0.4367 - accuracy: 0.8665 - val_loss: 0.3354 - val_accuracy: 0.8768 - 22s/epoch - 47ms/step\n",
            "Epoch 2/100\n",
            "469/469 - 11s - loss: 0.2013 - accuracy: 0.9243 - val_loss: 0.1826 - val_accuracy: 0.9295 - 11s/epoch - 24ms/step\n",
            "Epoch 3/100\n",
            "469/469 - 11s - loss: 0.1739 - accuracy: 0.9354 - val_loss: 0.1750 - val_accuracy: 0.9302 - 11s/epoch - 24ms/step\n",
            "Epoch 4/100\n",
            "469/469 - 11s - loss: 0.1693 - accuracy: 0.9360 - val_loss: 0.2578 - val_accuracy: 0.9083 - 11s/epoch - 24ms/step\n",
            "Epoch 5/100\n",
            "469/469 - 11s - loss: 0.2670 - accuracy: 0.8878 - val_loss: 0.2215 - val_accuracy: 0.9214 - 11s/epoch - 24ms/step\n",
            "Epoch 6/100\n",
            "469/469 - 11s - loss: 0.1941 - accuracy: 0.9276 - val_loss: 0.1575 - val_accuracy: 0.9442 - 11s/epoch - 23ms/step\n",
            "Epoch 7/100\n",
            "469/469 - 11s - loss: 0.1507 - accuracy: 0.9438 - val_loss: 0.1345 - val_accuracy: 0.9480 - 11s/epoch - 23ms/step\n",
            "Epoch 8/100\n",
            "469/469 - 11s - loss: 0.1485 - accuracy: 0.9452 - val_loss: 0.1684 - val_accuracy: 0.9316 - 11s/epoch - 23ms/step\n",
            "Epoch 9/100\n",
            "469/469 - 11s - loss: 0.1435 - accuracy: 0.9457 - val_loss: 0.1636 - val_accuracy: 0.9410 - 11s/epoch - 23ms/step\n",
            "Epoch 10/100\n",
            "469/469 - 11s - loss: 0.1463 - accuracy: 0.9465 - val_loss: 0.1544 - val_accuracy: 0.9400 - 11s/epoch - 23ms/step\n",
            "Epoch 11/100\n",
            "469/469 - 11s - loss: 0.1397 - accuracy: 0.9476 - val_loss: 0.1348 - val_accuracy: 0.9503 - 11s/epoch - 23ms/step\n",
            "Epoch 12/100\n",
            "469/469 - 11s - loss: 0.1353 - accuracy: 0.9496 - val_loss: 0.2943 - val_accuracy: 0.9062 - 11s/epoch - 23ms/step\n",
            "Epoch 13/100\n",
            "469/469 - 11s - loss: 0.1589 - accuracy: 0.9413 - val_loss: 0.1261 - val_accuracy: 0.9529 - 11s/epoch - 24ms/step\n",
            "Epoch 14/100\n",
            "469/469 - 11s - loss: 0.2501 - accuracy: 0.9041 - val_loss: 0.1530 - val_accuracy: 0.9410 - 11s/epoch - 23ms/step\n",
            "Epoch 15/100\n",
            "469/469 - 11s - loss: 0.1685 - accuracy: 0.9372 - val_loss: 0.1518 - val_accuracy: 0.9407 - 11s/epoch - 23ms/step\n",
            "Epoch 16/100\n",
            "469/469 - 11s - loss: 0.1380 - accuracy: 0.9483 - val_loss: 0.1223 - val_accuracy: 0.9503 - 11s/epoch - 23ms/step\n",
            "Epoch 17/100\n",
            "469/469 - 11s - loss: 0.1247 - accuracy: 0.9532 - val_loss: 0.1245 - val_accuracy: 0.9522 - 11s/epoch - 23ms/step\n",
            "Epoch 18/100\n",
            "469/469 - 11s - loss: 0.1281 - accuracy: 0.9529 - val_loss: 0.1279 - val_accuracy: 0.9524 - 11s/epoch - 23ms/step\n",
            "Epoch 19/100\n",
            "469/469 - 11s - loss: 0.1175 - accuracy: 0.9556 - val_loss: 0.1230 - val_accuracy: 0.9526 - 11s/epoch - 23ms/step\n",
            "Epoch 20/100\n",
            "469/469 - 11s - loss: 0.1294 - accuracy: 0.9551 - val_loss: 0.1928 - val_accuracy: 0.9328 - 11s/epoch - 23ms/step\n",
            "Epoch 21/100\n",
            "469/469 - 11s - loss: 0.1415 - accuracy: 0.9468 - val_loss: 0.1411 - val_accuracy: 0.9417 - 11s/epoch - 23ms/step\n"
          ]
        },
        {
          "output_type": "execute_result",
          "data": {
            "text/plain": [
              "<keras.src.callbacks.History at 0x785c7d299870>"
            ]
          },
          "metadata": {},
          "execution_count": 7
        }
      ],
      "source": [
        "early_stopping = callbacks.EarlyStopping(monitor='accuracy', patience=20,  min_delta=0.1)\n",
        "vgg_net.fit(x_train, y_train, validation_data=(x_val, y_val), epochs=100, batch_size=64, verbose=2, callbacks = [early_stopping])"
      ]
    },
    {
      "cell_type": "code",
      "source": [
        "history = pd.DataFrame(vgg_net.history.history)\n",
        "history.to_csv('/content/drive/MyDrive/Research Programs and Folders/NeuralIPS Code/Models/Quebec Models/Training Results/Train_VGG.csv', index = False)"
      ],
      "metadata": {
        "id": "bsJmlP6gH688"
      },
      "execution_count": null,
      "outputs": []
    },
    {
      "cell_type": "code",
      "execution_count": null,
      "metadata": {
        "id": "oh38fHGHB3o8",
        "colab": {
          "base_uri": "https://localhost:8080/",
          "height": 470
        },
        "outputId": "cf540c88-9b6f-4540-c43e-ba48e105f8d6"
      },
      "outputs": [
        {
          "output_type": "stream",
          "name": "stdout",
          "text": [
            "Maximum validation accuracy: 0.9528588056564331\n"
          ]
        },
        {
          "output_type": "display_data",
          "data": {
            "text/plain": [
              "<Figure size 640x480 with 1 Axes>"
            ],
            "image/png": "[encoded data removed]"
          },
          "metadata": {}
        }
      ],
      "source": [
        "history = pd.DataFrame(vgg_net.history.history)\n",
        "print(\"Maximum validation accuracy: {}\".format(history['val_accuracy'].max()))\n",
        "plt.title('Training/Validation Accuracy for VGG Net')\n",
        "plt.plot(history['accuracy'], label = 'Training Accuracy')\n",
        "plt.plot(history['val_accuracy'], label = 'Validation Accuracy')\n",
        "plt.legend()\n",
        "plt.show()"
      ]
    },
    {
      "cell_type": "code",
      "execution_count": null,
      "metadata": {
        "id": "A4FTCTgAB3u9",
        "colab": {
          "base_uri": "https://localhost:8080/"
        },
        "outputId": "ed0e574d-1900-4974-a8f3-81a57b712013"
      },
      "outputs": [
        {
          "output_type": "stream",
          "name": "stdout",
          "text": [
            "268/268 [==============================] - 2s 5ms/step\n"
          ]
        }
      ],
      "source": [
        "y_hat_vgg = np.array([np.argmax(i) for i in vgg_net.predict(x_test)])"
      ]
    },
    {
      "cell_type": "code",
      "execution_count": null,
      "metadata": {
        "id": "fEjRlM5EB3xc",
        "colab": {
          "base_uri": "https://localhost:8080/",
          "height": 556
        },
        "outputId": "7667e631-d63d-4dec-daf3-26130b967b0a"
      },
      "outputs": [
        {
          "output_type": "stream",
          "name": "stdout",
          "text": [
            "Testing Accuracy\n",
            "Accuracy: 0.9421236872812135\n",
            "Precision: 0.9737704918032787\n",
            "Recall: 0.9154557463672391\n",
            "F1 Score: 0.9437131184748071\n",
            "ROC-AUC Score: 0.9438251919522394\n"
          ]
        },
        {
          "output_type": "display_data",
          "data": {
            "text/plain": [
              "<Figure size 640x480 with 2 Axes>"
            ],
            "image/png": "[encoded data removed]"
          },
          "metadata": {}
        }
      ],
      "source": [
        "print(\"Testing Accuracy\")\n",
        "print(\"Accuracy: {}\".format(accuracy_score(y_true = y_test, y_pred = y_hat_vgg)))\n",
        "print(\"Precision: {}\".format(precision_score(y_true = y_test, y_pred = y_hat_vgg))) #True positive predictions/Total positive predictions\n",
        "print(\"Recall: {}\".format(recall_score(y_true = y_test, y_pred = y_hat_vgg)))#True positive predictions/Total number of positive instances\n",
        "print(\"F1 Score: {}\".format(f1_score(y_true = y_test, y_pred = y_hat_vgg)) )#Harmonic mean of precision and recall\n",
        "print(\"ROC-AUC Score: {}\".format(roc_auc_score(y_true = y_test, y_score = y_hat_vgg)))\n",
        "\n",
        "\n",
        "confusion_matrix = metrics.confusion_matrix(y_true = y_test, y_pred = y_hat_vgg)\n",
        "cm_display = ConfusionMatrixDisplay(confusion_matrix = confusion_matrix, display_labels= [\"No Fire: 0\", \"Fire: 1\"] )\n",
        "cm_display.plot()\n",
        "plt.show()"
      ]
    },
    {
      "cell_type": "code",
      "source": [
        "Test.append(accuracy_score(y_true = y_test, y_pred = y_hat_vgg))\n",
        "Precision.append(precision_score(y_true = y_test, y_pred = y_hat_vgg))\n",
        "Recall.append(recall_score(y_true = y_test, y_pred = y_hat_vgg))\n",
        "F1.append(f1_score(y_true = y_test, y_pred = y_hat_vgg))\n",
        "ROC_AUC.append(roc_auc_score(y_true = y_test, y_score = y_hat_vgg))"
      ],
      "metadata": {
        "id": "umIaXX0sYRwk"
      },
      "execution_count": null,
      "outputs": []
    },
    {
      "cell_type": "markdown",
      "source": [
        "### **Results**"
      ],
      "metadata": {
        "id": "jvkmLKqgDtZf"
      }
    },
    {
      "cell_type": "code",
      "source": [
        "data_table = pd.DataFrame({'Models': ['VGG-Net'], 'Accuracy':Test, 'Precision': Precision, 'Recall': Recall, 'F1_Score': F1, 'ROC-AUC':ROC_AUC})\n",
        "data_table.sort_values('Accuracy', inplace=True, ascending = False)\n",
        "data_table.reset_index(drop = True)"
      ],
      "metadata": {
        "id": "1xiWWRogDvMw",
        "colab": {
          "base_uri": "https://localhost:8080/",
          "height": 81
        },
        "outputId": "37bbac13-3058-4d0c-88f0-5b9194120f54"
      },
      "execution_count": null,
      "outputs": [
        {
          "output_type": "execute_result",
          "data": {
            "text/plain": [
              "    Models  Accuracy  Precision    Recall  F1_Score   ROC-AUC\n",
              "0  VGG-Net  0.942124    0.97377  0.915456  0.943713  0.943825"
            ],
            "text/html": [
              "\n",
              "  <div id=\"df-a61bff96-889d-48f1-93dd-ad2123f76023\" class=\"colab-df-container\">\n",
              "    <div>\n",
              "<style scoped>\n",
              "    .dataframe tbody tr th:only-of-type {\n",
              "        vertical-align: middle;\n",
              "    }\n",
              "\n",
              "    .dataframe tbody tr th {\n",
              "        vertical-align: top;\n",
              "    }\n",
              "\n",
              "    .dataframe thead th {\n",
              "        text-align: right;\n",
              "    }\n",
              "</style>\n",
              "<table border=\"1\" class=\"dataframe\">\n",
              "  <thead>\n",
              "    <tr style=\"text-align: right;\">\n",
              "      <th></th>\n",
              "      <th>Models</th>\n",
              "      <th>Accuracy</th>\n",
              "      <th>Precision</th>\n",
              "      <th>Recall</th>\n",
              "      <th>F1_Score</th>\n",
              "      <th>ROC-AUC</th>\n",
              "    </tr>\n",
              "  </thead>\n",
              "  <tbody>\n",
              "    <tr>\n",
              "      <th>0</th>\n",
              "      <td>VGG-Net</td>\n",
              "      <td>0.942124</td>\n",
              "      <td>0.97377</td>\n",
              "      <td>0.915456</td>\n",
              "      <td>0.943713</td>\n",
              "      <td>0.943825</td>\n",
              "    </tr>\n",
              "  </tbody>\n",
              "</table>\n",
              "</div>\n",
              "    <div class=\"colab-df-buttons\">\n",
              "\n",
              "  <div class=\"colab-df-container\">\n",
              "    <button class=\"colab-df-convert\" onclick=\"convertToInteractive('df-a61bff96-889d-48f1-93dd-ad2123f76023')\"\n",
              "            title=\"Convert this dataframe to an interactive table.\"\n",
              "            style=\"display:none;\">\n",
              "\n",
              "  <svg xmlns=\"http://www.w3.org/2000/svg\" height=\"24px\" viewBox=\"0 -960 960 960\">\n",
              "    <path d=\"M120-120v-720h720v720H120Zm60-500h600v-160H180v160Zm220 220h160v-160H400v160Zm0 220h160v-160H400v160ZM180-400h160v-160H180v160Zm440 0h160v-160H620v160ZM180-180h160v-160H180v160Zm440 0h160v-160H620v160Z\"/>\n",
              "  </svg>\n",
              "    </button>\n",
              "\n",
              "  <style>\n",
              "    .colab-df-container {\n",
              "      display:flex;\n",
              "      gap: 12px;\n",
              "    }\n",
              "\n",
              "    .colab-df-convert {\n",
              "      background-color: #E8F0FE;\n",
              "      border: none;\n",
              "      border-radius: 50%;\n",
              "      cursor: pointer;\n",
              "      display: none;\n",
              "      fill: #1967D2;\n",
              "      height: 32px;\n",
              "      padding: 0 0 0 0;\n",
              "      width: 32px;\n",
              "    }\n",
              "\n",
              "    .colab-df-convert:hover {\n",
              "      background-color: #E2EBFA;\n",
              "      box-shadow: 0px 1px 2px rgba(60, 64, 67, 0.3), 0px 1px 3px 1px rgba(60, 64, 67, 0.15);\n",
              "      fill: #174EA6;\n",
              "    }\n",
              "\n",
              "    .colab-df-buttons div {\n",
              "      margin-bottom: 4px;\n",
              "    }\n",
              "\n",
              "    [theme=dark] .colab-df-convert {\n",
              "      background-color: #3B4455;\n",
              "      fill: #D2E3FC;\n",
              "    }\n",
              "\n",
              "    [theme=dark] .colab-df-convert:hover {\n",
              "      background-color: #434B5C;\n",
              "      box-shadow: 0px 1px 3px 1px rgba(0, 0, 0, 0.15);\n",
              "      filter: drop-shadow(0px 1px 2px rgba(0, 0, 0, 0.3));\n",
              "      fill: #FFFFFF;\n",
              "    }\n",
              "  </style>\n",
              "\n",
              "    <script>\n",
              "      const buttonEl =\n",
              "        document.querySelector('#df-a61bff96-889d-48f1-93dd-ad2123f76023 button.colab-df-convert');\n",
              "      buttonEl.style.display =\n",
              "        google.colab.kernel.accessAllowed ? 'block' : 'none';\n",
              "\n",
              "      async function convertToInteractive(key) {\n",
              "        const element = document.querySelector('#df-a61bff96-889d-48f1-93dd-ad2123f76023');\n",
              "        const dataTable =\n",
              "          await google.colab.kernel.invokeFunction('convertToInteractive',\n",
              "                                                    [key], {});\n",
              "        if (!dataTable) return;\n",
              "\n",
              "        const docLinkHtml = 'Like what you see? Visit the ' +\n",
              "          '<a target=\"_blank\" href=https://colab.research.google.com/notebooks/data_table.ipynb>data table notebook</a>'\n",
              "          + ' to learn more about interactive tables.';\n",
              "        element.innerHTML = '';\n",
              "        dataTable['output_type'] = 'display_data';\n",
              "        await google.colab.output.renderOutput(dataTable, element);\n",
              "        const docLink = document.createElement('div');\n",
              "        docLink.innerHTML = docLinkHtml;\n",
              "        element.appendChild(docLink);\n",
              "      }\n",
              "    </script>\n",
              "  </div>\n",
              "\n",
              "\n",
              "    </div>\n",
              "  </div>\n"
            ],
            "application/vnd.google.colaboratory.intrinsic+json": {
              "type": "dataframe",
              "summary": "{\n  \"name\": \"data_table\",\n  \"rows\": 1,\n  \"fields\": [\n    {\n      \"column\": \"Models\",\n      \"properties\": {\n        \"dtype\": \"string\",\n        \"num_unique_values\": 1,\n        \"samples\": [\n          \"VGG-Net\"\n        ],\n        \"semantic_type\": \"\",\n        \"description\": \"\"\n      }\n    },\n    {\n      \"column\": \"Accuracy\",\n      \"properties\": {\n        \"dtype\": \"number\",\n        \"std\": null,\n        \"min\": 0.9421236872812135,\n        \"max\": 0.9421236872812135,\n        \"num_unique_values\": 1,\n        \"samples\": [\n          0.9421236872812135\n        ],\n        \"semantic_type\": \"\",\n        \"description\": \"\"\n      }\n    },\n    {\n      \"column\": \"Precision\",\n      \"properties\": {\n        \"dtype\": \"number\",\n        \"std\": null,\n        \"min\": 0.9737704918032787,\n        \"max\": 0.9737704918032787,\n        \"num_unique_values\": 1,\n        \"samples\": [\n          0.9737704918032787\n        ],\n        \"semantic_type\": \"\",\n        \"description\": \"\"\n      }\n    },\n    {\n      \"column\": \"Recall\",\n      \"properties\": {\n        \"dtype\": \"number\",\n        \"std\": null,\n        \"min\": 0.9154557463672391,\n        \"max\": 0.9154557463672391,\n        \"num_unique_values\": 1,\n        \"samples\": [\n          0.9154557463672391\n        ],\n        \"semantic_type\": \"\",\n        \"description\": \"\"\n      }\n    },\n    {\n      \"column\": \"F1_Score\",\n      \"properties\": {\n        \"dtype\": \"number\",\n        \"std\": null,\n        \"min\": 0.9437131184748071,\n        \"max\": 0.9437131184748071,\n        \"num_unique_values\": 1,\n        \"samples\": [\n          0.9437131184748071\n        ],\n        \"semantic_type\": \"\",\n        \"description\": \"\"\n      }\n    },\n    {\n      \"column\": \"ROC-AUC\",\n      \"properties\": {\n        \"dtype\": \"number\",\n        \"std\": null,\n        \"min\": 0.9438251919522394,\n        \"max\": 0.9438251919522394,\n        \"num_unique_values\": 1,\n        \"samples\": [\n          0.9438251919522394\n        ],\n        \"semantic_type\": \"\",\n        \"description\": \"\"\n      }\n    }\n  ]\n}"
            }
          },
          "metadata": {},
          "execution_count": 15
        }
      ]
    },
    {
      "cell_type": "code",
      "source": [
        "data_table.to_csv('/content/drive/MyDrive/Research Programs and Folders/NeuralIPS Code/Models/Quebec Models/Separated Results/Results_VGG.csv', index = False)"
      ],
      "metadata": {
        "id": "YHS11K1iDvPS"
      },
      "execution_count": null,
      "outputs": []
    }
  ],
  "metadata": {
    "colab": {
      "collapsed_sections": [
        "qkKd59okcL-9",
        "_ViRD7QSc5hT"
      ],
      "provenance": [],
      "machine_shape": "hm",
      "gpuType": "L4",
      "authorship_tag": "ABX9TyOCoTeSpTv30NoThjttfIQf",
      "include_colab_link": true
    },
    "kernelspec": {
      "display_name": "Python 3",
      "name": "python3"
    },
    "language_info": {
      "name": "python"
    },
    "accelerator": "GPU"
  },
  "nbformat": 4,
  "nbformat_minor": 0
}