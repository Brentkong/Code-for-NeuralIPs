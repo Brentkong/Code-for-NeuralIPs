{
  "cells": [
    {
      "cell_type": "markdown",
      "metadata": {
        "id": "view-in-github",
        "colab_type": "text"
      },
      "source": [
        "<a href=\"https://colab.research.google.com/github/Brentkong/Code-for-NeuralIPs/blob/main/Alex_Net.ipynb\" target=\"_parent\"><img src=\"https://colab.research.google.com/assets/colab-badge.svg\" alt=\"Open In Colab\"/></a>"
      ]
    },
    {
      "cell_type": "markdown",
      "metadata": {
        "id": "qkKd59okcL-9"
      },
      "source": [
        "### **Use: https://www.kaggle.com/datasets/abdelghaniaaba/wildfire-prediction-dataset**\n"
      ]
    },
    {
      "cell_type": "code",
      "execution_count": null,
      "metadata": {
        "colab": {
          "base_uri": "https://localhost:8080/"
        },
        "id": "8blwGjGcIS0l",
        "outputId": "c61ea803-bdd2-46fe-89e8-bd3f46d43360"
      },
      "outputs": [
        {
          "output_type": "stream",
          "name": "stdout",
          "text": [
            "Mounted at /content/drive\n"
          ]
        }
      ],
      "source": [
        "from google.colab import drive\n",
        "drive.mount('/content/drive')"
      ]
    },
    {
      "cell_type": "markdown",
      "metadata": {
        "id": "_ViRD7QSc5hT"
      },
      "source": [
        "### **Imports**"
      ]
    },
    {
      "cell_type": "code",
      "execution_count": null,
      "metadata": {
        "id": "NpNTRNieo5Xj"
      },
      "outputs": [],
      "source": [
        "import numpy as np\n",
        "import pandas as pd\n",
        "import tensorflow as tf\n",
        "from tensorflow import keras\n",
        "from tensorflow.keras import layers, callbacks, Sequential\n",
        "from tensorflow.keras.layers import Conv2D,Dense,Dropout,Flatten,MaxPooling2D,Input,BatchNormalization\n",
        "from tensorflow.keras.models import Sequential\n",
        "from tensorflow.keras.models import Model\n",
        "import matplotlib.pyplot as plt\n",
        "\n",
        "from sklearn import metrics\n",
        "from sklearn.metrics import precision_score, recall_score, accuracy_score, f1_score, confusion_matrix, ConfusionMatrixDisplay, roc_curve, roc_auc_score"
      ]
    },
    {
      "cell_type": "code",
      "execution_count": null,
      "metadata": {
        "id": "9RNc7PPjUsYw"
      },
      "outputs": [],
      "source": [
        "x_train = np.load('/content/drive/MyDrive/Research Programs and Folders/NeuralIPS Code/Data/Processed Data/42850/x_train.npy')\n",
        "x_val = np.load('/content/drive/MyDrive/Research Programs and Folders/NeuralIPS Code/Data/Processed Data/42850/x_val.npy')\n",
        "x_test = np.load('/content/drive/MyDrive/Research Programs and Folders/NeuralIPS Code/Data/Processed Data/42850/x_test.npy')\n",
        "\n",
        "y_train = np.load('/content/drive/MyDrive/Research Programs and Folders/NeuralIPS Code/Data/Processed Data/42850/y_train.npy')\n",
        "y_val = np.load('/content/drive/MyDrive/Research Programs and Folders/NeuralIPS Code/Data/Processed Data/42850/y_val.npy')\n",
        "y_test = np.load('/content/drive/MyDrive/Research Programs and Folders/NeuralIPS Code/Data/Processed Data/42850/y_test.npy')"
      ]
    },
    {
      "cell_type": "code",
      "source": [
        "Test, Precision, Recall, F1, ROC_AUC = [], [], [], [], []"
      ],
      "metadata": {
        "id": "y1Kqd15VXMNx"
      },
      "execution_count": null,
      "outputs": []
    },
    {
      "cell_type": "code",
      "source": [
        "y_test = np.array([np.argmax(i) for i in y_test])"
      ],
      "metadata": {
        "id": "_ZR14-PRXdZT"
      },
      "execution_count": null,
      "outputs": []
    },
    {
      "cell_type": "markdown",
      "metadata": {
        "id": "JtVZ6xatWlJL"
      },
      "source": [
        "### **AlexNet**"
      ]
    },
    {
      "cell_type": "code",
      "execution_count": null,
      "metadata": {
        "id": "A8_Sv9LQWox1"
      },
      "outputs": [],
      "source": [
        "def alex_net():\n",
        "    model=Sequential()\n",
        "    model.add(Conv2D(96,(11,11), strides = 4, padding='same', input_shape=(32,32,3), activation='relu', kernel_initializer= 'he_normal'))\n",
        "    model.add(MaxPooling2D(pool_size=(3,3), strides = 2, padding='same'))\n",
        "    model.add(Conv2D(256,(5,5), strides = 1, padding='same', activation='relu', kernel_initializer= 'he_normal'))\n",
        "    model.add(MaxPooling2D(pool_size=(3,3), strides = 2, padding='same'))\n",
        "    model.add(Conv2D(384,(3,3), strides = 1, padding='same', activation='relu', kernel_initializer= 'he_normal'))\n",
        "    model.add(Conv2D(384,(3,3), strides = 1, padding='same', activation='relu', kernel_initializer= 'he_normal'))\n",
        "    model.add(Conv2D(256,(3,3), strides = 1, padding='same', activation='relu', kernel_initializer= 'he_normal'))\n",
        "    model.add(MaxPooling2D(pool_size=(3,3), strides = 2, padding='same'))\n",
        "    model.add(Flatten())#makes input/outputs match\n",
        "    model.add(Dropout(0.5))\n",
        "    model.add(Dense(4096, activation=\"relu\"))\n",
        "    model.add(Dropout(0.5))\n",
        "    model.add(Dense(4096, activation=\"relu\"))\n",
        "    model.add(Dense(2, activation='softmax'))\n",
        "    model.compile(loss='categorical_crossentropy', optimizer = 'adam', metrics=['accuracy'])\n",
        "    return model\n",
        "alexNet = alex_net()"
      ]
    },
    {
      "cell_type": "code",
      "execution_count": null,
      "metadata": {
        "colab": {
          "base_uri": "https://localhost:8080/"
        },
        "id": "iFWxuJYXbxee",
        "outputId": "5a49c513-d45f-4713-cb43-ec6b01c126d2"
      },
      "outputs": [
        {
          "output_type": "stream",
          "name": "stdout",
          "text": [
            "Epoch 1/100\n",
            "469/469 - 12s - loss: 0.3180 - accuracy: 0.8700 - val_loss: 0.2244 - val_accuracy: 0.9018 - 12s/epoch - 26ms/step\n",
            "Epoch 2/100\n",
            "469/469 - 4s - loss: 0.2172 - accuracy: 0.9174 - val_loss: 0.2054 - val_accuracy: 0.9127 - 4s/epoch - 9ms/step\n",
            "Epoch 3/100\n",
            "469/469 - 4s - loss: 0.1931 - accuracy: 0.9278 - val_loss: 0.1962 - val_accuracy: 0.9195 - 4s/epoch - 9ms/step\n",
            "Epoch 4/100\n",
            "469/469 - 4s - loss: 0.1883 - accuracy: 0.9275 - val_loss: 0.1767 - val_accuracy: 0.9305 - 4s/epoch - 9ms/step\n",
            "Epoch 5/100\n",
            "469/469 - 4s - loss: 0.1740 - accuracy: 0.9344 - val_loss: 0.1812 - val_accuracy: 0.9221 - 4s/epoch - 9ms/step\n",
            "Epoch 6/100\n",
            "469/469 - 4s - loss: 0.1646 - accuracy: 0.9380 - val_loss: 0.1915 - val_accuracy: 0.9209 - 4s/epoch - 9ms/step\n",
            "Epoch 7/100\n",
            "469/469 - 4s - loss: 0.1633 - accuracy: 0.9389 - val_loss: 0.2499 - val_accuracy: 0.9029 - 4s/epoch - 9ms/step\n",
            "Epoch 8/100\n",
            "469/469 - 4s - loss: 0.1524 - accuracy: 0.9420 - val_loss: 0.1877 - val_accuracy: 0.9190 - 4s/epoch - 9ms/step\n",
            "Epoch 9/100\n",
            "469/469 - 4s - loss: 0.1400 - accuracy: 0.9486 - val_loss: 0.2165 - val_accuracy: 0.9284 - 4s/epoch - 9ms/step\n",
            "Epoch 10/100\n",
            "469/469 - 4s - loss: 0.1353 - accuracy: 0.9505 - val_loss: 0.2073 - val_accuracy: 0.9279 - 4s/epoch - 9ms/step\n",
            "Epoch 11/100\n",
            "469/469 - 4s - loss: 0.1342 - accuracy: 0.9496 - val_loss: 0.2165 - val_accuracy: 0.9125 - 4s/epoch - 9ms/step\n",
            "Epoch 12/100\n",
            "469/469 - 4s - loss: 0.1454 - accuracy: 0.9474 - val_loss: 0.2206 - val_accuracy: 0.9214 - 4s/epoch - 9ms/step\n",
            "Epoch 13/100\n",
            "469/469 - 4s - loss: 0.1278 - accuracy: 0.9528 - val_loss: 0.2016 - val_accuracy: 0.9314 - 4s/epoch - 9ms/step\n",
            "Epoch 14/100\n",
            "469/469 - 4s - loss: 0.1165 - accuracy: 0.9569 - val_loss: 0.1920 - val_accuracy: 0.9225 - 4s/epoch - 9ms/step\n",
            "Epoch 15/100\n",
            "469/469 - 4s - loss: 0.1229 - accuracy: 0.9537 - val_loss: 0.2247 - val_accuracy: 0.9218 - 4s/epoch - 9ms/step\n",
            "Epoch 16/100\n",
            "469/469 - 4s - loss: 0.1133 - accuracy: 0.9587 - val_loss: 0.1943 - val_accuracy: 0.9302 - 4s/epoch - 9ms/step\n",
            "Epoch 17/100\n",
            "469/469 - 4s - loss: 0.1193 - accuracy: 0.9562 - val_loss: 0.1997 - val_accuracy: 0.9277 - 4s/epoch - 9ms/step\n",
            "Epoch 18/100\n",
            "469/469 - 4s - loss: 0.1012 - accuracy: 0.9636 - val_loss: 0.2269 - val_accuracy: 0.9316 - 4s/epoch - 9ms/step\n",
            "Epoch 19/100\n",
            "469/469 - 4s - loss: 0.1027 - accuracy: 0.9626 - val_loss: 0.2029 - val_accuracy: 0.9342 - 4s/epoch - 9ms/step\n",
            "Epoch 20/100\n",
            "469/469 - 4s - loss: 0.0929 - accuracy: 0.9656 - val_loss: 0.2218 - val_accuracy: 0.9258 - 4s/epoch - 9ms/step\n",
            "Epoch 21/100\n",
            "469/469 - 4s - loss: 0.1217 - accuracy: 0.9574 - val_loss: 0.2303 - val_accuracy: 0.9335 - 4s/epoch - 9ms/step\n"
          ]
        },
        {
          "output_type": "execute_result",
          "data": {
            "text/plain": [
              "<keras.src.callbacks.History at 0x7d178d4f5de0>"
            ]
          },
          "metadata": {},
          "execution_count": 7
        }
      ],
      "source": [
        "early_stopping = callbacks.EarlyStopping(monitor='accuracy', patience=20,  min_delta=0.1)\n",
        "alexNet.fit(x_train, y_train, validation_data=(x_val, y_val), epochs=100, batch_size=64, verbose=2, callbacks = [early_stopping])"
      ]
    },
    {
      "cell_type": "code",
      "source": [
        "history = pd.DataFrame(alexNet.history.history)\n",
        "history.to_csv('/content/drive/MyDrive/Research Programs and Folders/NeuralIPS Code/Models/Quebec Models/Training Results/Train_Alex.csv', index = False)"
      ],
      "metadata": {
        "id": "g5ELwiOJGmHI"
      },
      "execution_count": null,
      "outputs": []
    },
    {
      "cell_type": "code",
      "execution_count": null,
      "metadata": {
        "colab": {
          "base_uri": "https://localhost:8080/",
          "height": 470
        },
        "id": "zoBJYCqgfsU7",
        "outputId": "02a14818-7de5-4f06-dbfe-fb2be75e575b"
      },
      "outputs": [
        {
          "output_type": "stream",
          "name": "stdout",
          "text": [
            "Maximum validation accuracy: 0.9341890215873718\n"
          ]
        },
        {
          "output_type": "display_data",
          "data": {
            "text/plain": [
              "<Figure size 640x480 with 1 Axes>"
            ],
            "image/png": "[encoded data removed]"
          },
          "metadata": {}
        }
      ],
      "source": [
        "print(\"Maximum validation accuracy: {}\".format(history['val_accuracy'].max()))\n",
        "plt.title('Training/Validation Accuracy for AlexNet')\n",
        "plt.plot(history['accuracy'], label = 'Training Accuracy')\n",
        "plt.plot(history['val_accuracy'], label = 'Validation Accuracy')\n",
        "plt.legend()\n",
        "plt.show()"
      ]
    },
    {
      "cell_type": "code",
      "execution_count": null,
      "metadata": {
        "colab": {
          "base_uri": "https://localhost:8080/"
        },
        "id": "Ho_tIm78fyNn",
        "outputId": "124141c0-0f6e-47b9-f25a-b460e1435ff5"
      },
      "outputs": [
        {
          "output_type": "stream",
          "name": "stdout",
          "text": [
            "268/268 [==============================] - 1s 3ms/step\n"
          ]
        }
      ],
      "source": [
        "y_hat_alex = np.array([np.argmax(i) for i in alexNet.predict(x_test)])"
      ]
    },
    {
      "cell_type": "code",
      "execution_count": null,
      "metadata": {
        "colab": {
          "base_uri": "https://localhost:8080/",
          "height": 556
        },
        "id": "o2OtptypfyRg",
        "outputId": "8030f658-a13a-410d-e5ca-ed0b7beab402"
      },
      "outputs": [
        {
          "output_type": "stream",
          "name": "stdout",
          "text": [
            "Testing Accuracy\n",
            "Accuracy: 0.9315052508751459\n",
            "Precision: 0.9185185185185185\n",
            "Recall: 0.9555261999119331\n",
            "F1 Score: 0.936656954785799\n",
            "ROC-AUC Score: 0.9299726332230966\n"
          ]
        },
        {
          "output_type": "display_data",
          "data": {
            "text/plain": [
              "<Figure size 640x480 with 2 Axes>"
            ],
            "image/png": "[encoded data removed]"
          },
          "metadata": {}
        }
      ],
      "source": [
        "print(\"Testing Accuracy\")\n",
        "print(\"Accuracy: {}\".format(accuracy_score(y_true = y_test, y_pred = y_hat_alex)))\n",
        "print(\"Precision: {}\".format(precision_score(y_true = y_test, y_pred =y_hat_alex))) #True positive predictions/Total positive predictions\n",
        "print(\"Recall: {}\".format(recall_score(y_true = y_test, y_pred = y_hat_alex)))#True positive predictions/Total number of positive instances\n",
        "print(\"F1 Score: {}\".format(f1_score(y_true = y_test, y_pred = y_hat_alex)) )#Harmonic mean of precision and recall\n",
        "print(\"ROC-AUC Score: {}\".format(roc_auc_score(y_true = y_test, y_score = y_hat_alex)))\n",
        "\n",
        "\n",
        "confusion_matrix = metrics.confusion_matrix(y_true = y_test, y_pred = y_hat_alex)\n",
        "cm_display = ConfusionMatrixDisplay(confusion_matrix = confusion_matrix, display_labels= [\"No Fire: 0\", \"Fire: 1\"] )\n",
        "cm_display.plot()\n",
        "plt.show()"
      ]
    },
    {
      "cell_type": "code",
      "source": [
        "Test.append(accuracy_score(y_true = y_test, y_pred = y_hat_alex))\n",
        "Precision.append(precision_score(y_true = y_test, y_pred = y_hat_alex))\n",
        "Recall.append(recall_score(y_true = y_test, y_pred = y_hat_alex))\n",
        "F1.append(f1_score(y_true = y_test, y_pred = y_hat_alex))\n",
        "ROC_AUC.append(roc_auc_score(y_true = y_test, y_score = y_hat_alex))"
      ],
      "metadata": {
        "id": "9WG0LfIIX_L4"
      },
      "execution_count": null,
      "outputs": []
    },
    {
      "cell_type": "markdown",
      "source": [
        "### **Results**"
      ],
      "metadata": {
        "id": "jvkmLKqgDtZf"
      }
    },
    {
      "cell_type": "code",
      "source": [
        "data_table = pd.DataFrame({'Models': ['AlexNet'], 'Accuracy':Test, 'Precision': Precision, 'Recall': Recall, 'F1_Score': F1, 'ROC-AUC':ROC_AUC})\n",
        "data_table.sort_values('Accuracy', inplace=True, ascending = False)\n",
        "data_table.reset_index(drop = True)"
      ],
      "metadata": {
        "id": "1xiWWRogDvMw",
        "colab": {
          "base_uri": "https://localhost:8080/",
          "height": 81
        },
        "outputId": "12a38129-db0b-4a9d-ad84-bdc5ca383a03"
      },
      "execution_count": null,
      "outputs": [
        {
          "output_type": "execute_result",
          "data": {
            "text/plain": [
              "    Models  Accuracy  Precision    Recall  F1_Score   ROC-AUC\n",
              "0  AlexNet  0.931505   0.918519  0.955526  0.936657  0.929973"
            ],
            "text/html": [
              "\n",
              "  <div id=\"df-02516fd0-b9e8-4e0e-9cbd-8cd017aa938f\" class=\"colab-df-container\">\n",
              "    <div>\n",
              "<style scoped>\n",
              "    .dataframe tbody tr th:only-of-type {\n",
              "        vertical-align: middle;\n",
              "    }\n",
              "\n",
              "    .dataframe tbody tr th {\n",
              "        vertical-align: top;\n",
              "    }\n",
              "\n",
              "    .dataframe thead th {\n",
              "        text-align: right;\n",
              "    }\n",
              "</style>\n",
              "<table border=\"1\" class=\"dataframe\">\n",
              "  <thead>\n",
              "    <tr style=\"text-align: right;\">\n",
              "      <th></th>\n",
              "      <th>Models</th>\n",
              "      <th>Accuracy</th>\n",
              "      <th>Precision</th>\n",
              "      <th>Recall</th>\n",
              "      <th>F1_Score</th>\n",
              "      <th>ROC-AUC</th>\n",
              "    </tr>\n",
              "  </thead>\n",
              "  <tbody>\n",
              "    <tr>\n",
              "      <th>0</th>\n",
              "      <td>AlexNet</td>\n",
              "      <td>0.931505</td>\n",
              "      <td>0.918519</td>\n",
              "      <td>0.955526</td>\n",
              "      <td>0.936657</td>\n",
              "      <td>0.929973</td>\n",
              "    </tr>\n",
              "  </tbody>\n",
              "</table>\n",
              "</div>\n",
              "    <div class=\"colab-df-buttons\">\n",
              "\n",
              "  <div class=\"colab-df-container\">\n",
              "    <button class=\"colab-df-convert\" onclick=\"convertToInteractive('df-02516fd0-b9e8-4e0e-9cbd-8cd017aa938f')\"\n",
              "            title=\"Convert this dataframe to an interactive table.\"\n",
              "            style=\"display:none;\">\n",
              "\n",
              "  <svg xmlns=\"http://www.w3.org/2000/svg\" height=\"24px\" viewBox=\"0 -960 960 960\">\n",
              "    <path d=\"M120-120v-720h720v720H120Zm60-500h600v-160H180v160Zm220 220h160v-160H400v160Zm0 220h160v-160H400v160ZM180-400h160v-160H180v160Zm440 0h160v-160H620v160ZM180-180h160v-160H180v160Zm440 0h160v-160H620v160Z\"/>\n",
              "  </svg>\n",
              "    </button>\n",
              "\n",
              "  <style>\n",
              "    .colab-df-container {\n",
              "      display:flex;\n",
              "      gap: 12px;\n",
              "    }\n",
              "\n",
              "    .colab-df-convert {\n",
              "      background-color: #E8F0FE;\n",
              "      border: none;\n",
              "      border-radius: 50%;\n",
              "      cursor: pointer;\n",
              "      display: none;\n",
              "      fill: #1967D2;\n",
              "      height: 32px;\n",
              "      padding: 0 0 0 0;\n",
              "      width: 32px;\n",
              "    }\n",
              "\n",
              "    .colab-df-convert:hover {\n",
              "      background-color: #E2EBFA;\n",
              "      box-shadow: 0px 1px 2px rgba(60, 64, 67, 0.3), 0px 1px 3px 1px rgba(60, 64, 67, 0.15);\n",
              "      fill: #174EA6;\n",
              "    }\n",
              "\n",
              "    .colab-df-buttons div {\n",
              "      margin-bottom: 4px;\n",
              "    }\n",
              "\n",
              "    [theme=dark] .colab-df-convert {\n",
              "      background-color: #3B4455;\n",
              "      fill: #D2E3FC;\n",
              "    }\n",
              "\n",
              "    [theme=dark] .colab-df-convert:hover {\n",
              "      background-color: #434B5C;\n",
              "      box-shadow: 0px 1px 3px 1px rgba(0, 0, 0, 0.15);\n",
              "      filter: drop-shadow(0px 1px 2px rgba(0, 0, 0, 0.3));\n",
              "      fill: #FFFFFF;\n",
              "    }\n",
              "  </style>\n",
              "\n",
              "    <script>\n",
              "      const buttonEl =\n",
              "        document.querySelector('#df-02516fd0-b9e8-4e0e-9cbd-8cd017aa938f button.colab-df-convert');\n",
              "      buttonEl.style.display =\n",
              "        google.colab.kernel.accessAllowed ? 'block' : 'none';\n",
              "\n",
              "      async function convertToInteractive(key) {\n",
              "        const element = document.querySelector('#df-02516fd0-b9e8-4e0e-9cbd-8cd017aa938f');\n",
              "        const dataTable =\n",
              "          await google.colab.kernel.invokeFunction('convertToInteractive',\n",
              "                                                    [key], {});\n",
              "        if (!dataTable) return;\n",
              "\n",
              "        const docLinkHtml = 'Like what you see? Visit the ' +\n",
              "          '<a target=\"_blank\" href=https://colab.research.google.com/notebooks/data_table.ipynb>data table notebook</a>'\n",
              "          + ' to learn more about interactive tables.';\n",
              "        element.innerHTML = '';\n",
              "        dataTable['output_type'] = 'display_data';\n",
              "        await google.colab.output.renderOutput(dataTable, element);\n",
              "        const docLink = document.createElement('div');\n",
              "        docLink.innerHTML = docLinkHtml;\n",
              "        element.appendChild(docLink);\n",
              "      }\n",
              "    </script>\n",
              "  </div>\n",
              "\n",
              "    </div>\n",
              "  </div>\n"
            ],
            "application/vnd.google.colaboratory.intrinsic+json": {
              "type": "dataframe",
              "summary": "{\n  \"name\": \"data_table\",\n  \"rows\": 1,\n  \"fields\": [\n    {\n      \"column\": \"Models\",\n      \"properties\": {\n        \"dtype\": \"string\",\n        \"num_unique_values\": 1,\n        \"samples\": [\n          \"AlexNet\"\n        ],\n        \"semantic_type\": \"\",\n        \"description\": \"\"\n      }\n    },\n    {\n      \"column\": \"Accuracy\",\n      \"properties\": {\n        \"dtype\": \"number\",\n        \"std\": null,\n        \"min\": 0.9315052508751459,\n        \"max\": 0.9315052508751459,\n        \"num_unique_values\": 1,\n        \"samples\": [\n          0.9315052508751459\n        ],\n        \"semantic_type\": \"\",\n        \"description\": \"\"\n      }\n    },\n    {\n      \"column\": \"Precision\",\n      \"properties\": {\n        \"dtype\": \"number\",\n        \"std\": null,\n        \"min\": 0.9185185185185185,\n        \"max\": 0.9185185185185185,\n        \"num_unique_values\": 1,\n        \"samples\": [\n          0.9185185185185185\n        ],\n        \"semantic_type\": \"\",\n        \"description\": \"\"\n      }\n    },\n    {\n      \"column\": \"Recall\",\n      \"properties\": {\n        \"dtype\": \"number\",\n        \"std\": null,\n        \"min\": 0.9555261999119331,\n        \"max\": 0.9555261999119331,\n        \"num_unique_values\": 1,\n        \"samples\": [\n          0.9555261999119331\n        ],\n        \"semantic_type\": \"\",\n        \"description\": \"\"\n      }\n    },\n    {\n      \"column\": \"F1_Score\",\n      \"properties\": {\n        \"dtype\": \"number\",\n        \"std\": null,\n        \"min\": 0.936656954785799,\n        \"max\": 0.936656954785799,\n        \"num_unique_values\": 1,\n        \"samples\": [\n          0.936656954785799\n        ],\n        \"semantic_type\": \"\",\n        \"description\": \"\"\n      }\n    },\n    {\n      \"column\": \"ROC-AUC\",\n      \"properties\": {\n        \"dtype\": \"number\",\n        \"std\": null,\n        \"min\": 0.9299726332230966,\n        \"max\": 0.9299726332230966,\n        \"num_unique_values\": 1,\n        \"samples\": [\n          0.9299726332230966\n        ],\n        \"semantic_type\": \"\",\n        \"description\": \"\"\n      }\n    }\n  ]\n}"
            }
          },
          "metadata": {},
          "execution_count": 16
        }
      ]
    },
    {
      "cell_type": "code",
      "source": [
        "data_table.to_csv('/content/drive/MyDrive/Research Programs and Folders/NeuralIPS Code/Models/Quebec Models/Separated Results/Results_Alex_net.csv', index = False)"
      ],
      "metadata": {
        "id": "YHS11K1iDvPS"
      },
      "execution_count": null,
      "outputs": []
    }
  ],
  "metadata": {
    "colab": {
      "collapsed_sections": [
        "_ViRD7QSc5hT"
      ],
      "provenance": [],
      "machine_shape": "hm",
      "gpuType": "L4",
      "authorship_tag": "ABX9TyP1uQQwwKNWSzEQNxQZ+/rL",
      "include_colab_link": true
    },
    "kernelspec": {
      "display_name": "Python 3",
      "name": "python3"
    },
    "language_info": {
      "name": "python"
    },
    "accelerator": "GPU"
  },
  "nbformat": 4,
  "nbformat_minor": 0
}